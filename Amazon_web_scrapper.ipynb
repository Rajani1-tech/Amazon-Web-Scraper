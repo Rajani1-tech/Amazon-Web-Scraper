{
  "nbformat": 4,
  "nbformat_minor": 0,
  "metadata": {
    "colab": {
      "provenance": [],
      "authorship_tag": "ABX9TyPtSPrHsAaPHyfKfuNMwfK0",
      "include_colab_link": true
    },
    "kernelspec": {
      "name": "python3",
      "display_name": "Python 3"
    },
    "language_info": {
      "name": "python"
    }
  },
  "cells": [
    {
      "cell_type": "markdown",
      "metadata": {
        "id": "view-in-github",
        "colab_type": "text"
      },
      "source": [
        "<a href=\"https://colab.research.google.com/github/Rajani1-tech/Amazon-Web-Scraper/blob/main/Amazon_web_scrapper.ipynb\" target=\"_parent\"><img src=\"https://colab.research.google.com/assets/colab-badge.svg\" alt=\"Open In Colab\"/></a>"
      ]
    },
    {
      "cell_type": "markdown",
      "source": [
        "# Import Libraries"
      ],
      "metadata": {
        "id": "C-o05K1icD2A"
      }
    },
    {
      "cell_type": "code",
      "source": [
        "from bs4 import BeautifulSoup\n",
        "import requests\n",
        "import time\n",
        "import datetime\n",
        "import smtplib\n",
        "import pandas as pd\n",
        "import csv"
      ],
      "metadata": {
        "id": "2W27BC3icNPs"
      },
      "execution_count": 1,
      "outputs": []
    },
    {
      "cell_type": "markdown",
      "source": [
        "## Mount Files from Google Drive"
      ],
      "metadata": {
        "id": "2YGqLSNbcQK_"
      }
    },
    {
      "cell_type": "code",
      "source": [
        "from google.colab import drive\n",
        "drive.mount('/drive')"
      ],
      "metadata": {
        "colab": {
          "base_uri": "https://localhost:8080/"
        },
        "id": "GqPOAUTecOve",
        "outputId": "cb81f90e-1c3a-491f-e863-d86f8798e0b3"
      },
      "execution_count": 2,
      "outputs": [
        {
          "output_type": "stream",
          "name": "stdout",
          "text": [
            "Mounted at /drive\n"
          ]
        }
      ]
    },
    {
      "cell_type": "markdown",
      "source": [
        "## Connect to the website and Pull the Data"
      ],
      "metadata": {
        "id": "5yTSAYouc5d_"
      }
    },
    {
      "cell_type": "code",
      "source": [
        "URL = 'https://www.amazon.com/Oculus-Quest-Advanced-All-One-Virtual/dp/B099VMT8VZ/ref=sr_1_3?crid=DVQAFTZ0M3WU&keywords=quest+2&qid=1656425982&s=electronics&sprefix=quest%2Celectronics%2C494&sr=1-3'\n",
        "\n",
        "headers = {\"User-Agent\": \"Mozilla/5.0 (Windows NT 10.0; Win64; x64) AppleWebKit/537.36 (KHTML, like Gecko) Chrome/78.0.3904.108 Safari/537.36\", \"Accept-Encoding\":\"gzip, deflate\", \"Accept\":\"text/html,application/xhtml+xml,application/xml;q=0.9,*/*;q=0.8\", \"DNT\":\"1\",\"Connection\":\"close\", \"Upgrade-Insecure-Requests\":\"1\"}\n",
        "\n",
        "page = requests.get(URL, headers=headers)\n",
        "\n",
        "soup1 = BeautifulSoup(page.content, \"html.parser\")\n",
        "\n",
        "soup2 = BeautifulSoup(soup1.prettify(), \"html.parser\")\n",
        "\n",
        "try:\n",
        "\n",
        "  title = soup2.find(id='productTitle').get_text()\n",
        "  title = title.strip()\n",
        "  print(title)\n",
        "\n",
        "except:\n",
        "\n",
        "  print(\"Error\")\n",
        "\n",
        "try:\n",
        "\n",
        "  price = soup2.find(id='priceblock_ourprice').get_text()\n",
        "  price = price.strip()[1:]\n",
        "  print(price)\n",
        "\n",
        "except:\n",
        "\n",
        "  print(\"Error\")\n"
      ],
      "metadata": {
        "colab": {
          "base_uri": "https://localhost:8080/"
        },
        "id": "Di_LkGjAcuhu",
        "outputId": "eb4dd4f2-e04d-4b6a-99a9-0e9440a80c58"
      },
      "execution_count": 3,
      "outputs": [
        {
          "output_type": "stream",
          "name": "stdout",
          "text": [
            "Meta Quest 2 — Advanced All-In-One Virtual Reality Headset — 128 GB\n",
            "399.00\n"
          ]
        }
      ]
    },
    {
      "cell_type": "markdown",
      "source": [
        "# Create a CSV File and Write Headers and Data into  it"
      ],
      "metadata": {
        "id": "gxdo-AWgdNz2"
      }
    },
    {
      "cell_type": "code",
      "source": [
        "today = datetime.date.today()\n",
        "\n",
        "header = ['Title', 'Price ($)','Date']\n",
        "data = [title, price, today]\n",
        "    \n",
        "\n",
        "with open('AmazonWebScraper.csv', 'w', newline='', encoding = 'UTF8') as f:\n",
        "    writer = csv.writer(f)\n",
        "    writer.writerow(header)\n",
        "    writer.writerow(data)"
      ],
      "metadata": {
        "id": "2JMWQYN7cY8R"
      },
      "execution_count": 5,
      "outputs": []
    },
    {
      "cell_type": "markdown",
      "source": [
        "## View the Data Inside the CSV"
      ],
      "metadata": {
        "id": "gNjlZwwaoCZ1"
      }
    },
    {
      "cell_type": "code",
      "source": [
        "df = pd.read_csv('AmazonWebScraper.csv')\n",
        "\n",
        "print(df)"
      ],
      "metadata": {
        "colab": {
          "base_uri": "https://localhost:8080/"
        },
        "id": "gKOjr7ZjditV",
        "outputId": "e12fd28c-bee5-4e02-b70a-0f18a7f0aaae"
      },
      "execution_count": 6,
      "outputs": [
        {
          "output_type": "stream",
          "name": "stdout",
          "text": [
            "                                               Title  Price ($)        Date\n",
            "0  Meta Quest 2 — Advanced All-In-One Virtual Rea...      399.0  2022-12-07\n"
          ]
        }
      ]
    },
    {
      "cell_type": "markdown",
      "source": [
        "# Combine All of the above Code into one function"
      ],
      "metadata": {
        "id": "OMWJ38i-oN2y"
      }
    },
    {
      "cell_type": "code",
      "source": [
        "def check_price():\n",
        "  URL = 'https://www.amazon.com/Oculus-Quest-Advanced-All-One-Virtual/dp/B099VMT8VZ/ref=sr_1_1_sspa?crid=1QQJ2Y4O7SNMU&keywords=oculus+quest+2&qid=1651519251&sprefix=oculus+quest+%2Caps%2C328&sr=8-1-spons&psc=1&spLa=ZW5jcnlwdGVkUXVhbGlmaWVyPUFLOUE5M1RSUUJUNVYmZW5jcnlwdGVkSWQ9QTAyMzk1ODgxUTlSSTM4WURLR0NBJmVuY3J5cHRlZEFkSWQ9QTAxNzM5NjM3VzVGNVE5Q1hYWkomd2lkZ2V0TmFtZT1zcF9hdGYmYWN0aW9uPWNsaWNrUmVkaXJlY3QmZG9Ob3RMb2dDbGljaz10cnVl'\n",
        "\n",
        "  headers = {\"User-Agent\": \"Mozilla/5.0 (Windows NT 10.0; Win64; x64) AppleWebKit/537.36 (KHTML, like Gecko) Chrome/78.0.3904.108 Safari/537.36\", \"Accept-Encoding\":\"gzip, deflate\", \"Accept\":\"text/html,application/xhtml+xml,application/xml;q=0.9,*/*;q=0.8\", \"DNT\":\"1\",\"Connection\":\"close\", \"Upgrade-Insecure-Requests\":\"1\"}\n",
        "\n",
        "  page = requests.get(URL, headers=headers)\n",
        "\n",
        "  soup1 = BeautifulSoup(page.content, \"html.parser\")\n",
        "\n",
        "  soup2 = BeautifulSoup(soup1.prettify(), \"html.parser\")\n",
        "\n",
        "  title = soup2.find(id='productTitle').get_text()\n",
        "\n",
        "  price = soup2.find(id='priceblock_ourprice').get_text()\n",
        "\n",
        "  price = price.strip()[1:]\n",
        "  title = title.strip()\n",
        "\n",
        "  today = datetime.date.today()\n",
        "\n",
        "  #Appending data to the csv\n",
        "\n",
        "  import csv\n",
        "\n",
        "  header = ['Title', 'Price', 'Date']\n",
        "  data = [title, price, today]\n",
        "\n",
        "  with open('AmazonWebScraper.csv', 'a+', newline='', encoding = 'UTF8') as f:\n",
        "    writer = csv.writer(f)\n",
        "    writer.writerow(data)\n",
        "\n",
        "\n",
        "  if (float(price) < 300):\n",
        "    send_mail()"
      ],
      "metadata": {
        "id": "Swy19109fgNo"
      },
      "execution_count": 16,
      "outputs": []
    },
    {
      "cell_type": "markdown",
      "source": [
        "# Send an Email Once the Desired Price is Reached"
      ],
      "metadata": {
        "id": "oQv2jbnkoeha"
      }
    },
    {
      "cell_type": "code",
      "source": [
        "def send_mail():\n",
        "    server = smtplib.SMTP_SSL('smtp.gmail.com',465)\n",
        "    server.ehlo()\n",
        "    #server.starttls()\n",
        "    server.ehlo()\n",
        "    server.login('rajanilami.12@gmail.com','PASSWORD')\n",
        "    \n",
        "    subject = \"Oculus Quest 2 Price Drop Alert!\"\n",
        "    body = \"Rajani, This is the moment you have been waiting for!\\n\\nThe Oculus Quest 2 is below $300. Now is your chance to buy!\\n\\nLink here: https://www.amazon.com/Oculus-Quest-Advanced-All-One-Virtual/dp/B099VMT8VZ/ref=sr_1_1_sspa?crid=1QQJ2Y4O7SNMU&keywords=oculus+quest+2&qid=1651519251&sprefix=oculus+quest+%2Caps%2C328&sr=8-1-spons&psc=1&spLa=ZW5jcnlwdGVkUXVhbGlmaWVyPUFLOUE5M1RSUUJUNVYmZW5jcnlwdGVkSWQ9QTAyMzk1ODgxUTlSSTM4WURLR0NBJmVuY3J5cHRlZEFkSWQ9QTAxNzM5NjM3VzVGNVE5Q1hYWkomd2lkZ2V0TmFtZT1zcF9hdGYmYWN0aW9uPWNsaWNrUmVkaXJlY3QmZG9Ob3RMb2dDbGljaz10cnVl\"\n",
        "   \n",
        "    msg = f\"Subject: {subject}\\n\\n{body}\"\n",
        "    \n",
        "    server.sendmail(\n",
        "        'rajanilami.12@gmail.com', \"rajanilami.12@gmail.com\", msg)\n",
        "\n",
        "\n",
        "     "
      ],
      "metadata": {
        "id": "1Qofpa23gGED"
      },
      "execution_count": 18,
      "outputs": []
    },
    {
      "cell_type": "markdown",
      "source": [
        "# View the Full Data Inside the CSV"
      ],
      "metadata": {
        "id": "53UZ7pZqooB5"
      }
    },
    {
      "cell_type": "code",
      "source": [
        "df = pd.read_csv('AmazonWebScraper.csv')\n",
        "\n",
        "print(df)"
      ],
      "metadata": {
        "colab": {
          "base_uri": "https://localhost:8080/"
        },
        "id": "H5Ujkw-og3K9",
        "outputId": "1406fbbc-f278-431b-c79d-49b8b074a1c0"
      },
      "execution_count": 23,
      "outputs": [
        {
          "output_type": "stream",
          "name": "stdout",
          "text": [
            "                                               Title  Price ($)        Date\n",
            "0  Meta Quest 2 — Advanced All-In-One Virtual Rea...      399.0  2022-12-07\n",
            "1  Meta Quest 2 — Advanced All-In-One Virtual Rea...      399.0  2022-12-07\n",
            "2  Meta Quest 2 — Advanced All-In-One Virtual Rea...      399.0  2022-12-07\n",
            "3  Meta Quest 2 — Advanced All-In-One Virtual Rea...      399.0  2022-12-07\n",
            "4  Meta Quest 2 — Advanced All-In-One Virtual Rea...      399.0  2022-12-07\n"
          ]
        }
      ]
    }
  ]
}